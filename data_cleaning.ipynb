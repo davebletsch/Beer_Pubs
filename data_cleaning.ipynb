{
 "cells": [
  {
   "cell_type": "markdown",
   "metadata": {},
   "source": [
    "Are certain beer styles more popular per borough?"
   ]
  },
  {
   "cell_type": "code",
   "execution_count": 2,
   "metadata": {},
   "outputs": [],
   "source": [
    "boroughs = ['Manhattan', 'Bronx', 'Brooklyn', 'Queens', 'Staten Island']\n",
    "styles = {\n",
    "    'Pilsner':['Pils', 'Light', 'American Lager', 'Pale Lager'],\n",
    "    'Wheat':['Hefewiezen', 'Hefeweizen', 'Wiess', 'Wit', 'Witbier'],\n",
    "    'Lager':['Vienna',\n",
    "    'Stout':['Porter', 'Scotch', 'Smoked',\n",
    "    'Ale': ['Pale Ale', 'Amber', 'Brown', 'Red', 'Saison', 'Bock', 'Dopplebock', 'Kolsch', 'Octoberfest', 'Cream' ],\n",
    "    'IPA':['Session', 'Double IPA', 'IIPA', '2xIPA', '2XIPA', 'NEIPA']\n",
    "    'Sour':['Gose', 'Berliner Weisse', \n",
    "    'Imperial Stout':['Barley Wine', \n",
    "    'Belgian Strong':['Tripel', 'Dubbel', 'Abbey', \n",
    "    'Fruit':['Lambic', 'Pumpkin', 'Cider']\n",
    "    }"
   ]
  },
  {
   "cell_type": "code",
   "execution_count": null,
   "metadata": {},
   "outputs": [],
   "source": []
  }
 ],
 "metadata": {
  "kernelspec": {
   "display_name": "Python 3",
   "language": "python",
   "name": "python3"
  },
  "language_info": {
   "codemirror_mode": {
    "name": "ipython",
    "version": 3
   },
   "file_extension": ".py",
   "mimetype": "text/x-python",
   "name": "python",
   "nbconvert_exporter": "python",
   "pygments_lexer": "ipython3",
   "version": "3.7.3"
  }
 },
 "nbformat": 4,
 "nbformat_minor": 2
}
