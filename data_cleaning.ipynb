{
 "cells": [
  {
   "cell_type": "markdown",
   "metadata": {},
   "source": [
    "### Add scraped data into dataframe"
   ]
  },
  {
   "cell_type": "code",
   "execution_count": 1,
   "metadata": {},
   "outputs": [],
   "source": [
    "import seaborn as sns\n",
    "import numpy as np\n",
    "import pandas as pd\n",
    "import sqlalchemy\n",
    "import config\n",
    "\n",
    "from sqlalchemy.exc import ResourceClosedError"
   ]
  },
  {
   "cell_type": "code",
   "execution_count": 2,
   "metadata": {},
   "outputs": [],
   "source": [
    "from db import db, query, query_list\n",
    "df1 = query('SELECT * FROM  beers')\n",
    "# df = df.drop(columns='grouping')"
   ]
  },
  {
   "cell_type": "code",
   "execution_count": 3,
   "metadata": {},
   "outputs": [],
   "source": [
    "from db import db, query, query_list\n",
    "df_bars = query('SELECT * FROM  bars')\n"
   ]
  },
  {
   "cell_type": "code",
   "execution_count": 4,
   "metadata": {},
   "outputs": [],
   "source": [
    "# make a copy of dataframe\n",
    "df = df1.copy()"
   ]
  },
  {
   "cell_type": "code",
   "execution_count": 7,
   "metadata": {},
   "outputs": [
    {
     "data": {
      "text/html": [
       "<div>\n",
       "<style scoped>\n",
       "    .dataframe tbody tr th:only-of-type {\n",
       "        vertical-align: middle;\n",
       "    }\n",
       "\n",
       "    .dataframe tbody tr th {\n",
       "        vertical-align: top;\n",
       "    }\n",
       "\n",
       "    .dataframe thead th {\n",
       "        text-align: right;\n",
       "    }\n",
       "</style>\n",
       "<table border=\"1\" class=\"dataframe\">\n",
       "  <thead>\n",
       "    <tr style=\"text-align: right;\">\n",
       "      <th></th>\n",
       "      <th>name</th>\n",
       "      <th>beer_url</th>\n",
       "      <th>beer_type</th>\n",
       "      <th>abv</th>\n",
       "      <th>size</th>\n",
       "      <th>kind</th>\n",
       "      <th>price</th>\n",
       "      <th>bar_url</th>\n",
       "      <th>address</th>\n",
       "      <th>grouping</th>\n",
       "      <th>origin</th>\n",
       "    </tr>\n",
       "  </thead>\n",
       "  <tbody>\n",
       "    <tr>\n",
       "      <th>50277</th>\n",
       "      <td>Ginga Kogen</td>\n",
       "      <td>https://www.beermenus.com/beers/10565-ginga-kogen</td>\n",
       "      <td>German Hefeweizen</td>\n",
       "      <td>5.0%</td>\n",
       "      <td>10oz</td>\n",
       "      <td>Bottle</td>\n",
       "      <td>3.99</td>\n",
       "      <td>https://www.beermenus.com/places/20398-joe-can...</td>\n",
       "      <td>799 Route 46, Parsippany-Troy Hills, NJ 07054</td>\n",
       "      <td>BOTTLES</td>\n",
       "      <td>None</td>\n",
       "    </tr>\n",
       "    <tr>\n",
       "      <th>55554</th>\n",
       "      <td>Evil Twin Imperial Biscotti Break</td>\n",
       "      <td>https://www.beermenus.com/beers/16433-evil-twi...</td>\n",
       "      <td>Imperial Stout</td>\n",
       "      <td>11.5%</td>\n",
       "      <td>16oz</td>\n",
       "      <td>4 Pack Cans</td>\n",
       "      <td>12.99</td>\n",
       "      <td>https://www.beermenus.com/places/31763-verona-...</td>\n",
       "      <td>360 Bloomfield Avenue, Verona, NJ 07044</td>\n",
       "      <td>CANS</td>\n",
       "      <td>Brooklyn, NY</td>\n",
       "    </tr>\n",
       "  </tbody>\n",
       "</table>\n",
       "</div>"
      ],
      "text/plain": [
       "                                    name  \\\n",
       "50277                        Ginga Kogen   \n",
       "55554  Evil Twin Imperial Biscotti Break   \n",
       "\n",
       "                                                beer_url           beer_type  \\\n",
       "50277  https://www.beermenus.com/beers/10565-ginga-kogen  German Hefeweizen    \n",
       "55554  https://www.beermenus.com/beers/16433-evil-twi...     Imperial Stout    \n",
       "\n",
       "           abv  size          kind  price  \\\n",
       "50277     5.0%  10oz       Bottle    3.99   \n",
       "55554   11.5%   16oz  4 Pack Cans   12.99   \n",
       "\n",
       "                                                 bar_url  \\\n",
       "50277  https://www.beermenus.com/places/20398-joe-can...   \n",
       "55554  https://www.beermenus.com/places/31763-verona-...   \n",
       "\n",
       "                                             address grouping         origin  \n",
       "50277  799 Route 46, Parsippany-Troy Hills, NJ 07054  BOTTLES           None  \n",
       "55554        360 Bloomfield Avenue, Verona, NJ 07044     CANS   Brooklyn, NY  "
      ]
     },
     "execution_count": 7,
     "metadata": {},
     "output_type": "execute_result"
    }
   ],
   "source": [
    "df.sample(2)"
   ]
  },
  {
   "cell_type": "code",
   "execution_count": 6,
   "metadata": {},
   "outputs": [
    {
     "data": {
      "text/html": [
       "<div>\n",
       "<style scoped>\n",
       "    .dataframe tbody tr th:only-of-type {\n",
       "        vertical-align: middle;\n",
       "    }\n",
       "\n",
       "    .dataframe tbody tr th {\n",
       "        vertical-align: top;\n",
       "    }\n",
       "\n",
       "    .dataframe thead th {\n",
       "        text-align: right;\n",
       "    }\n",
       "</style>\n",
       "<table border=\"1\" class=\"dataframe\">\n",
       "  <thead>\n",
       "    <tr style=\"text-align: right;\">\n",
       "      <th></th>\n",
       "      <th>establishment_type</th>\n",
       "      <th>neighborhood</th>\n",
       "      <th>city</th>\n",
       "      <th>bar_name</th>\n",
       "      <th>bar_url</th>\n",
       "    </tr>\n",
       "  </thead>\n",
       "  <tbody>\n",
       "    <tr>\n",
       "      <th>360</th>\n",
       "      <td>Beer Store</td>\n",
       "      <td>Upper West Side</td>\n",
       "      <td>Manhattan, NY</td>\n",
       "      <td>Beer Shop NYC</td>\n",
       "      <td>https://www.beermenus.com/places/28665-beer-sh...</td>\n",
       "    </tr>\n",
       "    <tr>\n",
       "      <th>38</th>\n",
       "      <td>Restaurant</td>\n",
       "      <td>None</td>\n",
       "      <td>None</td>\n",
       "      <td>Fulton Hall</td>\n",
       "      <td>https://www.beermenus.com/places/55758-fulton-...</td>\n",
       "    </tr>\n",
       "  </tbody>\n",
       "</table>\n",
       "</div>"
      ],
      "text/plain": [
       "    establishment_type     neighborhood           city       bar_name  \\\n",
       "360         Beer Store  Upper West Side  Manhattan, NY  Beer Shop NYC   \n",
       "38          Restaurant             None           None    Fulton Hall   \n",
       "\n",
       "                                               bar_url  \n",
       "360  https://www.beermenus.com/places/28665-beer-sh...  \n",
       "38   https://www.beermenus.com/places/55758-fulton-...  "
      ]
     },
     "execution_count": 6,
     "metadata": {},
     "output_type": "execute_result"
    }
   ],
   "source": [
    "df_bars.sample(2)\n"
   ]
  },
  {
   "cell_type": "code",
   "execution_count": 8,
   "metadata": {},
   "outputs": [
    {
     "name": "stdout",
     "output_type": "stream",
     "text": [
      "<class 'pandas.core.frame.DataFrame'>\n",
      "RangeIndex: 56340 entries, 0 to 56339\n",
      "Data columns (total 11 columns):\n",
      "name         56340 non-null object\n",
      "beer_url     55947 non-null object\n",
      "beer_type    55586 non-null object\n",
      "abv          55586 non-null object\n",
      "size         54555 non-null object\n",
      "kind         55780 non-null object\n",
      "price        54101 non-null object\n",
      "bar_url      56340 non-null object\n",
      "address      56340 non-null object\n",
      "grouping     56340 non-null object\n",
      "origin       53979 non-null object\n",
      "dtypes: object(11)\n",
      "memory usage: 4.7+ MB\n"
     ]
    }
   ],
   "source": [
    "df.info()"
   ]
  },
  {
   "cell_type": "code",
   "execution_count": 9,
   "metadata": {},
   "outputs": [
    {
     "name": "stdout",
     "output_type": "stream",
     "text": [
      "<class 'pandas.core.frame.DataFrame'>\n",
      "RangeIndex: 590 entries, 0 to 589\n",
      "Data columns (total 5 columns):\n",
      "establishment_type    540 non-null object\n",
      "neighborhood          186 non-null object\n",
      "city                  478 non-null object\n",
      "bar_name              590 non-null object\n",
      "bar_url               590 non-null object\n",
      "dtypes: object(5)\n",
      "memory usage: 23.1+ KB\n"
     ]
    }
   ],
   "source": [
    "df_bars.info()"
   ]
  },
  {
   "cell_type": "code",
   "execution_count": 10,
   "metadata": {},
   "outputs": [
    {
     "data": {
      "text/plain": [
       "56340"
      ]
     },
     "execution_count": 10,
     "metadata": {},
     "output_type": "execute_result"
    }
   ],
   "source": [
    "# total number of records\n",
    "n = df.shape[0]\n",
    "n"
   ]
  },
  {
   "cell_type": "code",
   "execution_count": 11,
   "metadata": {},
   "outputs": [
    {
     "data": {
      "text/plain": [
       "[('beer_url', 393),\n",
       " ('beer_type', 754),\n",
       " ('abv', 754),\n",
       " ('size', 1785),\n",
       " ('kind', 560),\n",
       " ('price', 2239),\n",
       " ('bar_url', 0),\n",
       " ('address', 0),\n",
       " ('grouping', 0),\n",
       " ('origin', 2361)]"
      ]
     },
     "execution_count": 11,
     "metadata": {},
     "output_type": "execute_result"
    }
   ],
   "source": [
    "# how many values are we missing per category\n",
    "\n",
    "null_count_list = []\n",
    "for i in df.columns:\n",
    "    null_count_list.append(n-df.count()[i])\n",
    "\n",
    "null_values = zip(df.columns, null_count_list)\n",
    "missing_list_prefilter = list(null_values)[1:]\n",
    "missing_list_prefilter"
   ]
  },
  {
   "cell_type": "code",
   "execution_count": 12,
   "metadata": {},
   "outputs": [
    {
     "data": {
      "text/html": [
       "<div>\n",
       "<style scoped>\n",
       "    .dataframe tbody tr th:only-of-type {\n",
       "        vertical-align: middle;\n",
       "    }\n",
       "\n",
       "    .dataframe tbody tr th {\n",
       "        vertical-align: top;\n",
       "    }\n",
       "\n",
       "    .dataframe thead th {\n",
       "        text-align: right;\n",
       "    }\n",
       "</style>\n",
       "<table border=\"1\" class=\"dataframe\">\n",
       "  <thead>\n",
       "    <tr style=\"text-align: right;\">\n",
       "      <th></th>\n",
       "      <th>name</th>\n",
       "      <th>beer_url</th>\n",
       "      <th>beer_type</th>\n",
       "      <th>abv</th>\n",
       "      <th>size</th>\n",
       "      <th>kind</th>\n",
       "      <th>price</th>\n",
       "      <th>bar_url</th>\n",
       "      <th>address</th>\n",
       "      <th>grouping</th>\n",
       "      <th>origin</th>\n",
       "    </tr>\n",
       "  </thead>\n",
       "  <tbody>\n",
       "    <tr>\n",
       "      <th>24659</th>\n",
       "      <td>Funkwerks Raspberry Provincial</td>\n",
       "      <td>https://www.beermenus.com/beers/51006-funkwerk...</td>\n",
       "      <td>Sour Ale</td>\n",
       "      <td>4.2%</td>\n",
       "      <td>12oz</td>\n",
       "      <td>Draft</td>\n",
       "      <td>7</td>\n",
       "      <td>https://www.beermenus.com/places/18283-coals-p...</td>\n",
       "      <td>131 Parkway Road, Bronxville, NY 10708</td>\n",
       "      <td>ON TAP</td>\n",
       "      <td>Fort Collins, CO</td>\n",
       "    </tr>\n",
       "    <tr>\n",
       "      <th>48516</th>\n",
       "      <td>Bolero Snort Anudder Day In Paradise</td>\n",
       "      <td>https://www.beermenus.com/beers/330123-bolero-...</td>\n",
       "      <td>NE/Hazy IPA</td>\n",
       "      <td>6.0%</td>\n",
       "      <td>16oz</td>\n",
       "      <td>4 Pack Cans</td>\n",
       "      <td>16.99</td>\n",
       "      <td>https://www.beermenus.com/places/19535-bay-sho...</td>\n",
       "      <td>51 Garfield Street, Bay Shore, NY 11706</td>\n",
       "      <td>CANS</td>\n",
       "      <td>Ridgefield Park, NJ</td>\n",
       "    </tr>\n",
       "  </tbody>\n",
       "</table>\n",
       "</div>"
      ],
      "text/plain": [
       "                                       name  \\\n",
       "24659        Funkwerks Raspberry Provincial   \n",
       "48516  Bolero Snort Anudder Day In Paradise   \n",
       "\n",
       "                                                beer_url     beer_type  \\\n",
       "24659  https://www.beermenus.com/beers/51006-funkwerk...     Sour Ale    \n",
       "48516  https://www.beermenus.com/beers/330123-bolero-...  NE/Hazy IPA    \n",
       "\n",
       "          abv  size          kind  price  \\\n",
       "24659   4.2%   12oz        Draft       7   \n",
       "48516   6.0%   16oz  4 Pack Cans   16.99   \n",
       "\n",
       "                                                 bar_url  \\\n",
       "24659  https://www.beermenus.com/places/18283-coals-p...   \n",
       "48516  https://www.beermenus.com/places/19535-bay-sho...   \n",
       "\n",
       "                                       address grouping                origin  \n",
       "24659   131 Parkway Road, Bronxville, NY 10708   ON TAP      Fort Collins, CO  \n",
       "48516  51 Garfield Street, Bay Shore, NY 11706     CANS   Ridgefield Park, NJ  "
      ]
     },
     "execution_count": 12,
     "metadata": {},
     "output_type": "execute_result"
    }
   ],
   "source": [
    "df.sample(2)"
   ]
  },
  {
   "cell_type": "markdown",
   "metadata": {},
   "source": [
    "### Attempt to clean df"
   ]
  },
  {
   "cell_type": "code",
   "execution_count": 13,
   "metadata": {},
   "outputs": [
    {
     "data": {
      "text/plain": [
       "<matplotlib.axes._subplots.AxesSubplot at 0x1a208ec128>"
      ]
     },
     "execution_count": 13,
     "metadata": {},
     "output_type": "execute_result"
    },
    {
     "data": {
      "image/png": "[encoded data removed]",
      "text/plain": [
       "<Figure size 432x288 with 2 Axes>"
      ]
     },
     "metadata": {
      "needs_background": "light"
     },
     "output_type": "display_data"
    }
   ],
   "source": [
    "sns.heatmap(df.isna())"
   ]
  },
  {
   "cell_type": "code",
   "execution_count": null,
   "metadata": {},
   "outputs": [],
   "source": [
    "# check\n",
    "print(df.loc[770]['size'], type(df.loc[770]['size']))"
   ]
  },
  {
   "cell_type": "code",
   "execution_count": 14,
   "metadata": {},
   "outputs": [],
   "source": [
    "# Fill NONE values in size\n",
    "df['size'] = df['size'].fillna(value='16oz')"
   ]
  },
  {
   "cell_type": "code",
   "execution_count": 15,
   "metadata": {},
   "outputs": [
    {
     "name": "stdout",
     "output_type": "stream",
     "text": [
      "16oz <class 'str'>\n"
     ]
    }
   ],
   "source": [
    "# check if it worked\n",
    "print(df.loc[770]['size'], type(df.loc[770]['size']))"
   ]
  },
  {
   "cell_type": "markdown",
   "metadata": {},
   "source": [
    "#### Filter null values"
   ]
  },
  {
   "cell_type": "code",
   "execution_count": 16,
   "metadata": {},
   "outputs": [
    {
     "data": {
      "text/plain": [
       "0.084806531771388"
      ]
     },
     "execution_count": 16,
     "metadata": {},
     "output_type": "execute_result"
    }
   ],
   "source": [
    "# how many records have no price OR have no beer_type OR have no size info given\n",
    "(df1.loc[df1['price'].isnull()].shape[0]+\\\n",
    "df1.loc[df1['beer_type'].isnull()].shape[0]+\\\n",
    "df1.loc[df1['size'].isnull()].shape[0])/n"
   ]
  },
  {
   "cell_type": "code",
   "execution_count": null,
   "metadata": {},
   "outputs": [],
   "source": [
    "# filter records missing beer_type, size, or price since these are variables of interest\n",
    "df = df[df['beer_type'].notnull()]\n",
    "df = df[df['size'].notnull()]\n",
    "df = df[df['price'].notnull()]"
   ]
  },
  {
   "cell_type": "code",
   "execution_count": null,
   "metadata": {},
   "outputs": [],
   "source": [
    "# check if filtering worked\n",
    "(df.loc[df['price'].isnull()].shape[0]+\\\n",
    "df.loc[df['beer_type'].isnull()].shape[0]+\\\n",
    "df.loc[df['size'].isnull()].shape[0])/n"
   ]
  },
  {
   "cell_type": "markdown",
   "metadata": {},
   "source": [
    "#### Filter odd volume units (kegs, mL, etc.)"
   ]
  },
  {
   "cell_type": "code",
   "execution_count": null,
   "metadata": {},
   "outputs": [],
   "source": [
    "# check to see if following cell works\n",
    "df.loc[df['size']=='33cl']"
   ]
  },
  {
   "cell_type": "code",
   "execution_count": 17,
   "metadata": {},
   "outputs": [
    {
     "ename": "ValueError",
     "evalue": "cannot index with vector containing NA / NaN values",
     "output_type": "error",
     "traceback": [
      "\u001b[0;31m---------------------------------------------------------------------------\u001b[0m",
      "\u001b[0;31mValueError\u001b[0m                                Traceback (most recent call last)",
      "\u001b[0;32m<ipython-input-17-4264b1ec90fd>\u001b[0m in \u001b[0;36m<module>\u001b[0;34m\u001b[0m\n\u001b[1;32m      2\u001b[0m (df1.loc[df1['size'].str.contains(\"Keg\")].shape[0]+\\\n\u001b[1;32m      3\u001b[0m \u001b[0mdf1\u001b[0m\u001b[0;34m.\u001b[0m\u001b[0mloc\u001b[0m\u001b[0;34m[\u001b[0m\u001b[0mdf1\u001b[0m\u001b[0;34m[\u001b[0m\u001b[0;34m'size'\u001b[0m\u001b[0;34m]\u001b[0m\u001b[0;34m.\u001b[0m\u001b[0mstr\u001b[0m\u001b[0;34m.\u001b[0m\u001b[0mcontains\u001b[0m\u001b[0;34m(\u001b[0m\u001b[0;34m\"cl\"\u001b[0m\u001b[0;34m)\u001b[0m\u001b[0;34m]\u001b[0m\u001b[0;34m.\u001b[0m\u001b[0mshape\u001b[0m\u001b[0;34m[\u001b[0m\u001b[0;36m0\u001b[0m\u001b[0;34m]\u001b[0m\u001b[0;34m+\u001b[0m\u001b[0;31m\\\u001b[0m\u001b[0;34m\u001b[0m\u001b[0;34m\u001b[0m\u001b[0m\n\u001b[0;32m----> 4\u001b[0;31m \u001b[0mdf1\u001b[0m\u001b[0;34m.\u001b[0m\u001b[0mloc\u001b[0m\u001b[0;34m[\u001b[0m\u001b[0mdf1\u001b[0m\u001b[0;34m[\u001b[0m\u001b[0;34m'size'\u001b[0m\u001b[0;34m]\u001b[0m\u001b[0;34m.\u001b[0m\u001b[0mstr\u001b[0m\u001b[0;34m.\u001b[0m\u001b[0mcontains\u001b[0m\u001b[0;34m(\u001b[0m\u001b[0;34m\"ml\"\u001b[0m\u001b[0;34m)\u001b[0m\u001b[0;34m]\u001b[0m\u001b[0;34m.\u001b[0m\u001b[0mshape\u001b[0m\u001b[0;34m[\u001b[0m\u001b[0;36m0\u001b[0m\u001b[0;34m]\u001b[0m\u001b[0;34m+\u001b[0m\u001b[0;31m\\\u001b[0m\u001b[0;34m\u001b[0m\u001b[0;34m\u001b[0m\u001b[0m\n\u001b[0m\u001b[1;32m      5\u001b[0m df1.loc[df1['size'].str.contains(\"L\")].shape[0])/n\n",
      "\u001b[0;32m~/anaconda3/lib/python3.7/site-packages/pandas/core/indexing.py\u001b[0m in \u001b[0;36m__getitem__\u001b[0;34m(self, key)\u001b[0m\n\u001b[1;32m   1498\u001b[0m \u001b[0;34m\u001b[0m\u001b[0m\n\u001b[1;32m   1499\u001b[0m             \u001b[0mmaybe_callable\u001b[0m \u001b[0;34m=\u001b[0m \u001b[0mcom\u001b[0m\u001b[0;34m.\u001b[0m\u001b[0mapply_if_callable\u001b[0m\u001b[0;34m(\u001b[0m\u001b[0mkey\u001b[0m\u001b[0;34m,\u001b[0m \u001b[0mself\u001b[0m\u001b[0;34m.\u001b[0m\u001b[0mobj\u001b[0m\u001b[0;34m)\u001b[0m\u001b[0;34m\u001b[0m\u001b[0;34m\u001b[0m\u001b[0m\n\u001b[0;32m-> 1500\u001b[0;31m             \u001b[0;32mreturn\u001b[0m \u001b[0mself\u001b[0m\u001b[0;34m.\u001b[0m\u001b[0m_getitem_axis\u001b[0m\u001b[0;34m(\u001b[0m\u001b[0mmaybe_callable\u001b[0m\u001b[0;34m,\u001b[0m \u001b[0maxis\u001b[0m\u001b[0;34m=\u001b[0m\u001b[0maxis\u001b[0m\u001b[0;34m)\u001b[0m\u001b[0;34m\u001b[0m\u001b[0;34m\u001b[0m\u001b[0m\n\u001b[0m\u001b[1;32m   1501\u001b[0m \u001b[0;34m\u001b[0m\u001b[0m\n\u001b[1;32m   1502\u001b[0m     \u001b[0;32mdef\u001b[0m \u001b[0m_is_scalar_access\u001b[0m\u001b[0;34m(\u001b[0m\u001b[0mself\u001b[0m\u001b[0;34m,\u001b[0m \u001b[0mkey\u001b[0m\u001b[0;34m)\u001b[0m\u001b[0;34m:\u001b[0m\u001b[0;34m\u001b[0m\u001b[0;34m\u001b[0m\u001b[0m\n",
      "\u001b[0;32m~/anaconda3/lib/python3.7/site-packages/pandas/core/indexing.py\u001b[0m in \u001b[0;36m_getitem_axis\u001b[0;34m(self, key, axis)\u001b[0m\n\u001b[1;32m   1866\u001b[0m             \u001b[0mself\u001b[0m\u001b[0;34m.\u001b[0m\u001b[0m_validate_key\u001b[0m\u001b[0;34m(\u001b[0m\u001b[0mkey\u001b[0m\u001b[0;34m,\u001b[0m \u001b[0maxis\u001b[0m\u001b[0;34m)\u001b[0m\u001b[0;34m\u001b[0m\u001b[0;34m\u001b[0m\u001b[0m\n\u001b[1;32m   1867\u001b[0m             \u001b[0;32mreturn\u001b[0m \u001b[0mself\u001b[0m\u001b[0;34m.\u001b[0m\u001b[0m_get_slice_axis\u001b[0m\u001b[0;34m(\u001b[0m\u001b[0mkey\u001b[0m\u001b[0;34m,\u001b[0m \u001b[0maxis\u001b[0m\u001b[0;34m=\u001b[0m\u001b[0maxis\u001b[0m\u001b[0;34m)\u001b[0m\u001b[0;34m\u001b[0m\u001b[0;34m\u001b[0m\u001b[0m\n\u001b[0;32m-> 1868\u001b[0;31m         \u001b[0;32melif\u001b[0m \u001b[0mcom\u001b[0m\u001b[0;34m.\u001b[0m\u001b[0mis_bool_indexer\u001b[0m\u001b[0;34m(\u001b[0m\u001b[0mkey\u001b[0m\u001b[0;34m)\u001b[0m\u001b[0;34m:\u001b[0m\u001b[0;34m\u001b[0m\u001b[0;34m\u001b[0m\u001b[0m\n\u001b[0m\u001b[1;32m   1869\u001b[0m             \u001b[0;32mreturn\u001b[0m \u001b[0mself\u001b[0m\u001b[0;34m.\u001b[0m\u001b[0m_getbool_axis\u001b[0m\u001b[0;34m(\u001b[0m\u001b[0mkey\u001b[0m\u001b[0;34m,\u001b[0m \u001b[0maxis\u001b[0m\u001b[0;34m=\u001b[0m\u001b[0maxis\u001b[0m\u001b[0;34m)\u001b[0m\u001b[0;34m\u001b[0m\u001b[0;34m\u001b[0m\u001b[0m\n\u001b[1;32m   1870\u001b[0m         \u001b[0;32melif\u001b[0m \u001b[0mis_list_like_indexer\u001b[0m\u001b[0;34m(\u001b[0m\u001b[0mkey\u001b[0m\u001b[0;34m)\u001b[0m\u001b[0;34m:\u001b[0m\u001b[0;34m\u001b[0m\u001b[0;34m\u001b[0m\u001b[0m\n",
      "\u001b[0;32m~/anaconda3/lib/python3.7/site-packages/pandas/core/common.py\u001b[0m in \u001b[0;36mis_bool_indexer\u001b[0;34m(key)\u001b[0m\n\u001b[1;32m    122\u001b[0m             \u001b[0;32mif\u001b[0m \u001b[0;32mnot\u001b[0m \u001b[0mlib\u001b[0m\u001b[0;34m.\u001b[0m\u001b[0mis_bool_array\u001b[0m\u001b[0;34m(\u001b[0m\u001b[0mkey\u001b[0m\u001b[0;34m)\u001b[0m\u001b[0;34m:\u001b[0m\u001b[0;34m\u001b[0m\u001b[0;34m\u001b[0m\u001b[0m\n\u001b[1;32m    123\u001b[0m                 \u001b[0;32mif\u001b[0m \u001b[0misna\u001b[0m\u001b[0;34m(\u001b[0m\u001b[0mkey\u001b[0m\u001b[0;34m)\u001b[0m\u001b[0;34m.\u001b[0m\u001b[0many\u001b[0m\u001b[0;34m(\u001b[0m\u001b[0;34m)\u001b[0m\u001b[0;34m:\u001b[0m\u001b[0;34m\u001b[0m\u001b[0;34m\u001b[0m\u001b[0m\n\u001b[0;32m--> 124\u001b[0;31m                     \u001b[0;32mraise\u001b[0m \u001b[0mValueError\u001b[0m\u001b[0;34m(\u001b[0m\u001b[0mna_msg\u001b[0m\u001b[0;34m)\u001b[0m\u001b[0;34m\u001b[0m\u001b[0;34m\u001b[0m\u001b[0m\n\u001b[0m\u001b[1;32m    125\u001b[0m                 \u001b[0;32mreturn\u001b[0m \u001b[0;32mFalse\u001b[0m\u001b[0;34m\u001b[0m\u001b[0;34m\u001b[0m\u001b[0m\n\u001b[1;32m    126\u001b[0m             \u001b[0;32mreturn\u001b[0m \u001b[0;32mTrue\u001b[0m\u001b[0;34m\u001b[0m\u001b[0;34m\u001b[0m\u001b[0m\n",
      "\u001b[0;31mValueError\u001b[0m: cannot index with vector containing NA / NaN values"
     ]
    }
   ],
   "source": [
    "# how many records have unusable volume unit\n",
    "(df1.loc[df1['size'].str.contains(\"Keg\")].shape[0]+\\\n",
    "df1.loc[df1['size'].str.contains(\"cl\")].shape[0]+\\\n",
    "df1.loc[df1['size'].str.contains(\"ml\")].shape[0]+\\\n",
    "df1.loc[df1['size'].str.contains(\"L\")].shape[0])/n"
   ]
  },
  {
   "cell_type": "code",
   "execution_count": 18,
   "metadata": {},
   "outputs": [],
   "source": [
    "# filter out records with a size in different units (<1% of total data)\n",
    "df = df[~df['size'].str.contains(\"cl\")]\n",
    "df = df[~df['size'].str.contains(\"ml\")]\n",
    "df = df[~df['size'].str.contains(\"L\")]\n",
    "df = df[~df['size'].str.contains(\"Keg\")]"
   ]
  },
  {
   "cell_type": "code",
   "execution_count": null,
   "metadata": {},
   "outputs": [],
   "source": [
    "# check if it worked\n",
    "df.loc[df['size']=='33cl']"
   ]
  },
  {
   "cell_type": "code",
   "execution_count": null,
   "metadata": {},
   "outputs": [],
   "source": [
    "# another check\n",
    "df[df['size'].str.contains('Keg')]        "
   ]
  },
  {
   "cell_type": "code",
   "execution_count": 19,
   "metadata": {},
   "outputs": [
    {
     "data": {
      "text/plain": [
       "0.0"
      ]
     },
     "execution_count": 19,
     "metadata": {},
     "output_type": "execute_result"
    }
   ],
   "source": [
    "# NOW how many records have unusable volume unit\n",
    "(df.loc[df['size'].str.contains(\"Keg\")].shape[0]+\\\n",
    "df.loc[df['size'].str.contains(\"cl\")].shape[0]+\\\n",
    "df.loc[df['size'].str.contains(\"ml\")].shape[0]+\\\n",
    "df.loc[df['size'].str.contains(\"L\")].shape[0])/n"
   ]
  },
  {
   "cell_type": "code",
   "execution_count": null,
   "metadata": {},
   "outputs": [],
   "source": [
    "df.sample(2)"
   ]
  },
  {
   "cell_type": "code",
   "execution_count": null,
   "metadata": {},
   "outputs": [],
   "source": [
    "# map columns to num type and remove leading/trailing characters\n",
    "\n",
    "df['size'] = df['size'].map(lambda x: x.rstrip('oz')) # strip trailing 'oz'\n",
    "df['size'] = df['size'].replace('Pint', float(16)) # replace 'Pint' with number 16\n",
    "df['size'] = df['size'].astype(float) # lastly, convert all to type float\n",
    "\n",
    "df['price'] = df['price'].map(lambda x: x.lstrip('$')).astype(float)\n",
    "df['abv'] = df['abv'].map(lambda x: x.rstrip('%')).astype(float)\n",
    "df['zip'] = df['address'].map(lambda x: x[-5:]).astype(int)\n",
    "\n",
    "# added a price/oz column for comparison purposes\n",
    "df['price_per_oz'] = round(df['price']/df['size'],3)"
   ]
  },
  {
   "cell_type": "code",
   "execution_count": null,
   "metadata": {},
   "outputs": [],
   "source": [
    "# how many records contain no 'beer_type'\n",
    "# df['beer_type'].isnull().sum()/len(df)\n",
    "df[df['beer_type']=='Pint'].sum()/len(df)\n",
    "len(df[df['beer_type'].str.contains('pint')])"
   ]
  },
  {
   "cell_type": "code",
   "execution_count": null,
   "metadata": {},
   "outputs": [],
   "source": [
    "df.head(1)"
   ]
  },
  {
   "cell_type": "markdown",
   "metadata": {},
   "source": [
    "#### Parse beer types"
   ]
  },
  {
   "cell_type": "code",
   "execution_count": null,
   "metadata": {},
   "outputs": [],
   "source": [
    "styles = {\n",
    "    'Pilsner':['Pilsner', 'Pils', 'Light', 'American Lager', 'Pale Lager'],\n",
    "    'Wheat':['Wheat', 'Hefewiezen', 'Hefeweizen', 'Wiess', 'Wit', 'Witbier'],\n",
    "    'Lager':['Lager', 'Vienna'],\n",
    "    'Stout':['Stout', 'Porter', 'Scotch', 'Smoked'],\n",
    "    'Ale':['Ale', 'Pale Ale', 'Amber', 'Brown', 'Red', 'Saison', 'Bock', 'Dopplebock', 'Kolsch', 'Octoberfest', 'Cream' ],\n",
    "    'IPA':['IPA', 'Session', 'Double IPA', 'IIPA', '2xIPA', '2XIPA', 'NEIPA'],\n",
    "    'Sour':['Sour', 'Gose', 'Berliner Weisse'],\n",
    "    'Imperial Stout':['Imperial Stout', 'Imp. Stout', 'Imp Stout', 'Barley Wine'], \n",
    "    'Belgian Strong':['Belgian Strong', 'Tripel', 'Dubbel', 'Abbey'], \n",
    "    'Fruit':['Fruit', 'Lambic', 'Pumpkin', 'Cider']\n",
    "    }\n"
   ]
  },
  {
   "cell_type": "code",
   "execution_count": null,
   "metadata": {},
   "outputs": [],
   "source": [
    "# check if style given is in the values list of dictionary \"styles\"\n",
    "\n",
    "for i in range(0,len(df)):\n",
    "    for k in styles:\n",
    "        for v in styles[k]:\n",
    "            if df['beer_type'][i] in v:\n",
    "                df['beer_type'][i] = k\n",
    "\n"
   ]
  },
  {
   "cell_type": "code",
   "execution_count": null,
   "metadata": {},
   "outputs": [],
   "source": []
  },
  {
   "cell_type": "code",
   "execution_count": null,
   "metadata": {},
   "outputs": [],
   "source": []
  }
 ],
 "metadata": {
  "kernelspec": {
   "display_name": "Python 3",
   "language": "python",
   "name": "python3"
  },
  "language_info": {
   "codemirror_mode": {
    "name": "ipython",
    "version": 3
   },
   "file_extension": ".py",
   "mimetype": "text/x-python",
   "name": "python",
   "nbconvert_exporter": "python",
   "pygments_lexer": "ipython3",
   "version": "3.7.3"
  }
 },
 "nbformat": 4,
 "nbformat_minor": 2
}
