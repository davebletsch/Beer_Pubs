{
 "cells": [
  {
   "cell_type": "markdown",
   "metadata": {},
   "source": [
    "### Add scraped data into dataframe"
   ]
  },
  {
   "cell_type": "code",
   "execution_count": 1,
   "metadata": {},
   "outputs": [],
   "source": [
    "import sys\n",
    "sys.path.append('..')\n",
    "import seaborn as sns\n",
    "import numpy as np\n",
    "import pandas as pd\n",
    "from db import db, query, query_list"
   ]
  },
  {
   "cell_type": "code",
   "execution_count": 2,
   "metadata": {},
   "outputs": [],
   "source": [
    "import re"
   ]
  },
  {
   "cell_type": "code",
   "execution_count": 3,
   "metadata": {},
   "outputs": [],
   "source": [
    "beers = query('SELECT * FROM  beers')"
   ]
  },
  {
   "cell_type": "code",
   "execution_count": 4,
   "metadata": {},
   "outputs": [],
   "source": [
    "bars = query('SELECT * FROM  bars')"
   ]
  },
  {
   "cell_type": "markdown",
   "metadata": {},
   "source": [
    "## Clean the Bars Table"
   ]
  },
  {
   "cell_type": "code",
   "execution_count": 5,
   "metadata": {},
   "outputs": [
    {
     "data": {
      "text/html": [
       "<div>\n",
       "<style scoped>\n",
       "    .dataframe tbody tr th:only-of-type {\n",
       "        vertical-align: middle;\n",
       "    }\n",
       "\n",
       "    .dataframe tbody tr th {\n",
       "        vertical-align: top;\n",
       "    }\n",
       "\n",
       "    .dataframe thead th {\n",
       "        text-align: right;\n",
       "    }\n",
       "</style>\n",
       "<table border=\"1\" class=\"dataframe\">\n",
       "  <thead>\n",
       "    <tr style=\"text-align: right;\">\n",
       "      <th></th>\n",
       "      <th>establishment_type</th>\n",
       "      <th>neighborhood</th>\n",
       "      <th>city</th>\n",
       "      <th>bar_name</th>\n",
       "      <th>bar_url</th>\n",
       "    </tr>\n",
       "  </thead>\n",
       "  <tbody>\n",
       "    <tr>\n",
       "      <th>313</th>\n",
       "      <td>Beer Store</td>\n",
       "      <td>None</td>\n",
       "      <td>Long Branch, NJ</td>\n",
       "      <td>Bell Liquors</td>\n",
       "      <td>https://www.beermenus.com/places/17379-bell-li...</td>\n",
       "    </tr>\n",
       "    <tr>\n",
       "      <th>243</th>\n",
       "      <td>Bar</td>\n",
       "      <td>None</td>\n",
       "      <td>None</td>\n",
       "      <td>The Seneca</td>\n",
       "      <td>https://www.beermenus.com/places/30816-the-seneca</td>\n",
       "    </tr>\n",
       "    <tr>\n",
       "      <th>110</th>\n",
       "      <td>Beer Store</td>\n",
       "      <td>None</td>\n",
       "      <td>None</td>\n",
       "      <td>NK Organic Foods</td>\n",
       "      <td>https://www.beermenus.com/places/53598-nk-orga...</td>\n",
       "    </tr>\n",
       "    <tr>\n",
       "      <th>550</th>\n",
       "      <td>Restaurant</td>\n",
       "      <td>Long Island City</td>\n",
       "      <td>Queens, NY</td>\n",
       "      <td>M.Wells Steakhouse</td>\n",
       "      <td>https://www.beermenus.com/places/38007-m-wells...</td>\n",
       "    </tr>\n",
       "    <tr>\n",
       "      <th>40</th>\n",
       "      <td>Beer Store</td>\n",
       "      <td>None</td>\n",
       "      <td>Manhattan, NY</td>\n",
       "      <td>Alphabet City Beer Co.</td>\n",
       "      <td>https://www.beermenus.com/places/4860-alphabet...</td>\n",
       "    </tr>\n",
       "  </tbody>\n",
       "</table>\n",
       "</div>"
      ],
      "text/plain": [
       "    establishment_type      neighborhood             city  \\\n",
       "313         Beer Store              None  Long Branch, NJ   \n",
       "243                Bar              None             None   \n",
       "110         Beer Store              None             None   \n",
       "550         Restaurant  Long Island City       Queens, NY   \n",
       "40          Beer Store              None    Manhattan, NY   \n",
       "\n",
       "                   bar_name                                            bar_url  \n",
       "313            Bell Liquors  https://www.beermenus.com/places/17379-bell-li...  \n",
       "243              The Seneca  https://www.beermenus.com/places/30816-the-seneca  \n",
       "110        NK Organic Foods  https://www.beermenus.com/places/53598-nk-orga...  \n",
       "550      M.Wells Steakhouse  https://www.beermenus.com/places/38007-m-wells...  \n",
       "40   Alphabet City Beer Co.  https://www.beermenus.com/places/4860-alphabet...  "
      ]
     },
     "execution_count": 5,
     "metadata": {},
     "output_type": "execute_result"
    }
   ],
   "source": [
    "bars.sample(5)"
   ]
  },
  {
   "cell_type": "code",
   "execution_count": 6,
   "metadata": {},
   "outputs": [
    {
     "data": {
      "text/plain": [
       "Bar              218\n",
       "Restaurant       130\n",
       "Beer Store       127\n",
       "NaN               50\n",
       "Brewery           26\n",
       "Brewpub           12\n",
       "Restaurant in     11\n",
       "Bar in             8\n",
       "Brewery in         2\n",
       "Brewpub in         2\n",
       "in Pine            1\n",
       "in Basking         1\n",
       "in Flanders        1\n",
       "in Wantagh         1\n",
       "Name: establishment_type, dtype: int64"
      ]
     },
     "execution_count": 6,
     "metadata": {},
     "output_type": "execute_result"
    }
   ],
   "source": [
    "bars.establishment_type.value_counts(dropna = False)\n",
    "# All bars should become: Bar, Restaurant, Brewery/Brewpub (one category), Beer Store (will be dropped), or missing.\n",
    "# The miscellaneous values are due to bad parsing of bars not in NYC so can be dropped"
   ]
  },
  {
   "cell_type": "code",
   "execution_count": 7,
   "metadata": {},
   "outputs": [],
   "source": [
    "fix_dict = { \n",
    "      'Bar'           : 'Bar',\n",
    "      'Restaurant'    : 'Restaurant',\n",
    "      'Beer Store'    : 'Drop',\n",
    "      'Brewery'       : 'Brewery',\n",
    "      'Brewpub'       : 'Brewery',\n",
    "      'Restaurant in' : 'Restaurant',\n",
    "      'Bar in'        : 'Bar',\n",
    "      'Brewery in'    : 'Brewery',\n",
    "      'Brewpub in'    : 'Brewery',\n",
    "      'in Pine'       : 'Drop',\n",
    "      'in Wantagh'    : 'Drop',\n",
    "      'in Flanders'   : 'Drop',\n",
    "      'in Basking'    : 'Drop'\n",
    "}\n",
    "    \n",
    "    \n",
    "def fix_bar_type(bar_type):\n",
    "    if np.isnan(bar_type):\n",
    "        return bar_type\n",
    "    return fix_dict[bar_type]"
   ]
  },
  {
   "cell_type": "code",
   "execution_count": 8,
   "metadata": {},
   "outputs": [],
   "source": [
    "bars['establishment_type'] = bars.establishment_type.map(fix_dict)"
   ]
  },
  {
   "cell_type": "code",
   "execution_count": 9,
   "metadata": {},
   "outputs": [],
   "source": [
    "bars = bars[bars.establishment_type != 'Drop']"
   ]
  },
  {
   "cell_type": "code",
   "execution_count": 10,
   "metadata": {},
   "outputs": [],
   "source": [
    "# TO DO: Bar Locations"
   ]
  },
  {
   "cell_type": "markdown",
   "metadata": {},
   "source": [
    "## Clean the Beeers Table"
   ]
  },
  {
   "cell_type": "code",
   "execution_count": 11,
   "metadata": {},
   "outputs": [
    {
     "name": "stdout",
     "output_type": "stream",
     "text": [
      "<class 'pandas.core.frame.DataFrame'>\n",
      "RangeIndex: 56340 entries, 0 to 56339\n",
      "Data columns (total 11 columns):\n",
      "name         56340 non-null object\n",
      "beer_url     55947 non-null object\n",
      "beer_type    55586 non-null object\n",
      "abv          55586 non-null object\n",
      "size         54555 non-null object\n",
      "kind         55780 non-null object\n",
      "price        54101 non-null object\n",
      "bar_url      56340 non-null object\n",
      "address      56340 non-null object\n",
      "grouping     56340 non-null object\n",
      "origin       53979 non-null object\n",
      "dtypes: object(11)\n",
      "memory usage: 4.7+ MB\n"
     ]
    }
   ],
   "source": [
    "beers.info()"
   ]
  },
  {
   "cell_type": "markdown",
   "metadata": {},
   "source": [
    "## Origin"
   ]
  },
  {
   "cell_type": "code",
   "execution_count": 12,
   "metadata": {
    "scrolled": false
   },
   "outputs": [],
   "source": [
    "beers.loc[(beers.grouping == 'HOUSE BEERS') & (beers.origin.isna()), 'origin'] = 'New York, NY'"
   ]
  },
  {
   "cell_type": "markdown",
   "metadata": {},
   "source": [
    "### ABV"
   ]
  },
  {
   "cell_type": "code",
   "execution_count": 13,
   "metadata": {},
   "outputs": [],
   "source": [
    "abv_origin = beers[['abv', 'origin']]"
   ]
  },
  {
   "cell_type": "code",
   "execution_count": 14,
   "metadata": {},
   "outputs": [],
   "source": [
    "def fix_abv_origin(row):\n",
    "    try:\n",
    "        if not pd.isnull(row.abv):\n",
    "            abv = float(row.abv.strip('% '))\n",
    "        else:\n",
    "            abv = row.abv\n",
    "    except:\n",
    "        try:\n",
    "            assert pd.isnull(row.origin)\n",
    "        except:\n",
    "            # print(row.abv, '/', row.origin)\n",
    "            abv = np.nan\n",
    "            origin = row.origin\n",
    "        else:\n",
    "            origin = row.abv\n",
    "            abv    = np.nan\n",
    "    else:\n",
    "        origin = row.origin\n",
    "    \n",
    "    if isinstance(origin, float):\n",
    "        breakpoint()\n",
    "        \n",
    "    if pd.isnull(origin):\n",
    "        origin = np.nan\n",
    "    else:\n",
    "        origin = origin.strip()\n",
    "        cal_re = '\\d+ [cC]al'\n",
    "        if re.search(cal_re, origin):\n",
    "            # print(origin)\n",
    "            origin = np.nan\n",
    "        \n",
    "                        \n",
    "    return pd.Series({'abv' : abv, 'origin' : origin})\n",
    "                    "
   ]
  },
  {
   "cell_type": "code",
   "execution_count": 15,
   "metadata": {
    "scrolled": false
   },
   "outputs": [],
   "source": [
    "abv_origin = abv_origin.apply(fix_abv_origin, axis = 'columns')"
   ]
  },
  {
   "cell_type": "code",
   "execution_count": 16,
   "metadata": {},
   "outputs": [],
   "source": [
    "beers['abv'] = abv_origin.abv\n",
    "beers['origin'] = abv_origin.origin"
   ]
  },
  {
   "cell_type": "markdown",
   "metadata": {},
   "source": [
    "### Size and Kind"
   ]
  },
  {
   "cell_type": "markdown",
   "metadata": {},
   "source": [
    " - Throw out any beers measured in metric units\n",
    " - Throw out any *bars* where there are bulk sales (Keg, 6 pack)\n",
    " - Throw out any \"beers\" that are too large (Growler, Crowler, etc.)\n",
    " - Clean up the kind\n",
    " - Throw out any beers that aren't beers (wine, whisky, etc.)"
   ]
  },
  {
   "cell_type": "markdown",
   "metadata": {},
   "source": [
    "#### Filter odd volume units (kegs, mL, etc.)"
   ]
  },
  {
   "cell_type": "code",
   "execution_count": 17,
   "metadata": {},
   "outputs": [],
   "source": [
    "size_kinds = beers[['size', 'kind']]"
   ]
  },
  {
   "cell_type": "code",
   "execution_count": 18,
   "metadata": {},
   "outputs": [],
   "source": [
    "def fix_size_kind(row):\n",
    "    size = row['size']\n",
    "    kind = row.kind\n",
    "    drop_row = False\n",
    "    drop_bar = False\n",
    "\n",
    "    if not pd.isnull(size):\n",
    "        if 'cl' in size or 'ml' in size or 'L' in size:\n",
    "            drop_row = True\n",
    "            size = np.nan\n",
    "        if not pd.isnull(size) and 'Keg' in size:\n",
    "            drop_bar = True\n",
    "            size = np.nan\n",
    "        if not pd.isnull(size) and size.strip() == 'Pint':\n",
    "            size = 16\n",
    "        elif not pd.isnull(size):\n",
    "            assert 'oz' in size\n",
    "            size = float(size.strip().rstrip('oz'))\n",
    "            if size > 31:\n",
    "                drop_row = True\n",
    "\n",
    "    if not pd.isnull(kind):\n",
    "        if 'Keg' in kind or 'Pack' in kind or 'Cask' in kind:\n",
    "            kind = np.nan\n",
    "            drop_bar = True\n",
    "        elif 'rowler' in kind or 'Cask' in kind or 'Bottles' in kind or 'Pitcher' in kind:\n",
    "            drop_row = True\n",
    "        else:\n",
    "            kind = kind.strip()\n",
    "            if kind in ['By the glass', 'Glass', 'Pour']:\n",
    "                kind = 'Draft'\n",
    "    \n",
    "    return pd.Series({'size' : size,\n",
    "                      'kind' : kind,\n",
    "                      'drop_row' : drop_row,\n",
    "                      'drop_bar' : drop_bar})"
   ]
  },
  {
   "cell_type": "code",
   "execution_count": 19,
   "metadata": {},
   "outputs": [],
   "source": [
    "size_kinds = size_kinds.apply(fix_size_kind, axis = 'columns')"
   ]
  },
  {
   "cell_type": "code",
   "execution_count": 20,
   "metadata": {},
   "outputs": [],
   "source": [
    "# Dropped the tagged rows and bars\n",
    "\n",
    "temp = beers.drop(labels = ['size', 'kind'], axis = 'columns')\n",
    "temp = pd.concat([temp, size_kinds], axis = 'columns')\n",
    "temp['drop_bar'] = temp.groupby('bar_url')['drop_bar'].apply(\n",
    "                        lambda s : pd.Series(data = s.any(), index = s.index)\n",
    "                   )\n",
    "\n",
    "beers = temp[~temp.drop_bar & ~temp.drop_row]"
   ]
  },
  {
   "cell_type": "code",
   "execution_count": 21,
   "metadata": {},
   "outputs": [],
   "source": [
    "# Drop rows that aren't beers\n",
    "\n",
    "is_beer = beers.beer_url.str.contains('/beers/').fillna(False)\n",
    "beers = beers[is_beer]"
   ]
  },
  {
   "cell_type": "code",
   "execution_count": 22,
   "metadata": {},
   "outputs": [],
   "source": [
    "beers = beers[beers.grouping != 'SOFT DRINKS']"
   ]
  },
  {
   "cell_type": "code",
   "execution_count": 23,
   "metadata": {},
   "outputs": [],
   "source": [
    "# Drop columns that are no longer necessary\n",
    "\n",
    "beers.drop(['drop_row', 'drop_bar', 'grouping'], axis = 'columns', inplace = True)"
   ]
  },
  {
   "cell_type": "code",
   "execution_count": 24,
   "metadata": {},
   "outputs": [],
   "source": [
    "beers.loc[:,'price'] = beers.price.astype(float, errors = 'ignore')"
   ]
  },
  {
   "cell_type": "code",
   "execution_count": 25,
   "metadata": {},
   "outputs": [],
   "source": [
    "# Fix one beer that was written as $700 for $7.00\n",
    "beers.loc[beers['price'] == 700, 'price'] = 7"
   ]
  },
  {
   "cell_type": "markdown",
   "metadata": {},
   "source": [
    "## Bring in the bars data"
   ]
  },
  {
   "cell_type": "code",
   "execution_count": 26,
   "metadata": {},
   "outputs": [],
   "source": [
    "df = beers.merge(bars, how = 'inner', on = 'bar_url', validate = 'm:1')"
   ]
  },
  {
   "cell_type": "markdown",
   "metadata": {},
   "source": [
    "## Find the county and keep only New York"
   ]
  },
  {
   "cell_type": "code",
   "execution_count": 27,
   "metadata": {},
   "outputs": [],
   "source": [
    "# Fix one bad address\n",
    "bad_address = df.loc[df.address.str.slice(start = -5) == 'kebox', 'address'].iloc[0]\n",
    "bad_address = bad_address[:bad_address.find('Bucket')]\n",
    "df.loc[df.address.str.slice(start = -5) == 'kebox', 'address'] = bad_address"
   ]
  },
  {
   "cell_type": "code",
   "execution_count": 28,
   "metadata": {},
   "outputs": [],
   "source": [
    "# Get the zip code and the zip code table\n",
    "\n",
    "df['zip_code'] = df.address.str.slice(start = -5).astype(int)\n",
    "\n",
    "zip_code_table = pd.read_csv('ny_zip_codes.csv').rename(lambda s : s.lower().replace(' ', '_'), axis = 'columns')\n",
    "\n",
    "zip_code_table = zip_code_table[['county_name', 'zip_code']]"
   ]
  },
  {
   "cell_type": "code",
   "execution_count": 29,
   "metadata": {},
   "outputs": [],
   "source": [
    "df = df.merge(zip_code_table, on = 'zip_code', how = 'left')"
   ]
  },
  {
   "cell_type": "code",
   "execution_count": 30,
   "metadata": {},
   "outputs": [],
   "source": [
    "df = df[df.county_name.isin(['New York', 'Kings', 'Queens', 'Richmond', 'Bronx'])]"
   ]
  },
  {
   "cell_type": "code",
   "execution_count": 31,
   "metadata": {},
   "outputs": [],
   "source": [
    "df.drop(['zip_code', 'address', 'city', 'neighborhood'], axis = 'columns', inplace = True)"
   ]
  },
  {
   "cell_type": "code",
   "execution_count": 32,
   "metadata": {},
   "outputs": [
    {
     "name": "stdout",
     "output_type": "stream",
     "text": [
      "<class 'pandas.core.frame.DataFrame'>\n",
      "Int64Index: 8371 entries, 0 to 17140\n",
      "Data columns (total 12 columns):\n",
      "name                  8371 non-null object\n",
      "beer_url              8371 non-null object\n",
      "beer_type             8338 non-null object\n",
      "abv                   8321 non-null float64\n",
      "price                 8104 non-null float64\n",
      "bar_url               8371 non-null object\n",
      "origin                8207 non-null object\n",
      "size                  8052 non-null float64\n",
      "kind                  8350 non-null object\n",
      "establishment_type    7931 non-null object\n",
      "bar_name              8371 non-null object\n",
      "county_name           8371 non-null object\n",
      "dtypes: float64(3), object(9)\n",
      "memory usage: 850.2+ KB\n"
     ]
    }
   ],
   "source": [
    "df.info()"
   ]
  },
  {
   "cell_type": "markdown",
   "metadata": {},
   "source": [
    "## Classify the Types of Beer"
   ]
  },
  {
   "cell_type": "code",
   "execution_count": 33,
   "metadata": {},
   "outputs": [],
   "source": [
    "beer_categories = pd.read_csv('beer_types.csv')"
   ]
  },
  {
   "cell_type": "code",
   "execution_count": 34,
   "metadata": {},
   "outputs": [],
   "source": [
    "df['beer_type'] = df.beer_type.str.strip()"
   ]
  },
  {
   "cell_type": "code",
   "execution_count": 36,
   "metadata": {},
   "outputs": [],
   "source": [
    "df.loc[df.beer_type.isna(), 'beer_type'] = np.nan"
   ]
  },
  {
   "cell_type": "code",
   "execution_count": 37,
   "metadata": {},
   "outputs": [],
   "source": [
    "df = df.merge(beer_categories, on = 'beer_type', how = 'left', validate = 'm:1')"
   ]
  },
  {
   "cell_type": "code",
   "execution_count": 39,
   "metadata": {},
   "outputs": [],
   "source": [
    "df = df[df.beer_category != 'Other']"
   ]
  },
  {
   "cell_type": "code",
   "execution_count": 40,
   "metadata": {},
   "outputs": [
    {
     "data": {
      "text/plain": [
       "IPA        1606\n",
       "Ale        1232\n",
       "Lager      1188\n",
       "Stout       853\n",
       "Fruit       820\n",
       "Sour        716\n",
       "Belgian     532\n",
       "Wheat       428\n",
       "Pilsner     407\n",
       "Aged        126\n",
       "NaN          61\n",
       "Name: beer_category, dtype: int64"
      ]
     },
     "execution_count": 40,
     "metadata": {},
     "output_type": "execute_result"
    }
   ],
   "source": [
    "df.beer_category.value_counts(dropna = False)"
   ]
  },
  {
   "cell_type": "code",
   "execution_count": 41,
   "metadata": {},
   "outputs": [],
   "source": [
    "df.drop('beer_type', axis = 'columns', inplace = True)"
   ]
  },
  {
   "cell_type": "markdown",
   "metadata": {},
   "source": [
    "## Origin"
   ]
  },
  {
   "cell_type": "code",
   "execution_count": 81,
   "metadata": {},
   "outputs": [],
   "source": [
    "location_table = pd.read_excel('locations.xlsx')"
   ]
  },
  {
   "cell_type": "code",
   "execution_count": 82,
   "metadata": {},
   "outputs": [
    {
     "data": {
      "text/html": [
       "<div>\n",
       "<style scoped>\n",
       "    .dataframe tbody tr th:only-of-type {\n",
       "        vertical-align: middle;\n",
       "    }\n",
       "\n",
       "    .dataframe tbody tr th {\n",
       "        vertical-align: top;\n",
       "    }\n",
       "\n",
       "    .dataframe thead th {\n",
       "        text-align: right;\n",
       "    }\n",
       "</style>\n",
       "<table border=\"1\" class=\"dataframe\">\n",
       "  <thead>\n",
       "    <tr style=\"text-align: right;\">\n",
       "      <th></th>\n",
       "      <th>origin</th>\n",
       "      <th>origin_zone</th>\n",
       "    </tr>\n",
       "  </thead>\n",
       "  <tbody>\n",
       "    <tr>\n",
       "      <th>0</th>\n",
       "      <td>Brooklyn, NY</td>\n",
       "      <td>city</td>\n",
       "    </tr>\n",
       "    <tr>\n",
       "      <th>1</th>\n",
       "      <td>St. Louis, MO</td>\n",
       "      <td>country</td>\n",
       "    </tr>\n",
       "    <tr>\n",
       "      <th>2</th>\n",
       "      <td>New York, NY</td>\n",
       "      <td>city</td>\n",
       "    </tr>\n",
       "    <tr>\n",
       "      <th>3</th>\n",
       "      <td>Portland, ME</td>\n",
       "      <td>country</td>\n",
       "    </tr>\n",
       "    <tr>\n",
       "      <th>4</th>\n",
       "      <td>NaN</td>\n",
       "      <td>NaN</td>\n",
       "    </tr>\n",
       "    <tr>\n",
       "      <th>...</th>\n",
       "      <td>...</td>\n",
       "      <td>...</td>\n",
       "    </tr>\n",
       "    <tr>\n",
       "      <th>483</th>\n",
       "      <td>Kingston, , Jamaica,</td>\n",
       "      <td>world</td>\n",
       "    </tr>\n",
       "    <tr>\n",
       "      <th>484</th>\n",
       "      <td>Jever, Lower Saxony</td>\n",
       "      <td>world</td>\n",
       "    </tr>\n",
       "    <tr>\n",
       "      <th>485</th>\n",
       "      <td>Marshall, MI</td>\n",
       "      <td>country</td>\n",
       "    </tr>\n",
       "    <tr>\n",
       "      <th>486</th>\n",
       "      <td>Millers Falls, MA</td>\n",
       "      <td>country</td>\n",
       "    </tr>\n",
       "    <tr>\n",
       "      <th>487</th>\n",
       "      <td>CoruÌ±a, Spain</td>\n",
       "      <td>world</td>\n",
       "    </tr>\n",
       "  </tbody>\n",
       "</table>\n",
       "<p>488 rows × 2 columns</p>\n",
       "</div>"
      ],
      "text/plain": [
       "                   origin origin_zone\n",
       "0            Brooklyn, NY        city\n",
       "1           St. Louis, MO     country\n",
       "2            New York, NY        city\n",
       "3            Portland, ME     country\n",
       "4                     NaN         NaN\n",
       "..                    ...         ...\n",
       "483  Kingston, , Jamaica,       world\n",
       "484   Jever, Lower Saxony       world\n",
       "485          Marshall, MI     country\n",
       "486     Millers Falls, MA     country\n",
       "487        CoruÌ±a, Spain       world\n",
       "\n",
       "[488 rows x 2 columns]"
      ]
     },
     "execution_count": 82,
     "metadata": {},
     "output_type": "execute_result"
    }
   ],
   "source": [
    "location_table"
   ]
  },
  {
   "cell_type": "code",
   "execution_count": 88,
   "metadata": {},
   "outputs": [],
   "source": [
    "df = df.merge(location_table, on = 'origin')"
   ]
  },
  {
   "cell_type": "code",
   "execution_count": 95,
   "metadata": {},
   "outputs": [],
   "source": [
    "df.drop('origin', axis = 'columns', inplace = True)"
   ]
  },
  {
   "cell_type": "code",
   "execution_count": 97,
   "metadata": {
    "scrolled": true
   },
   "outputs": [],
   "source": [
    "df.to_sql('beers_clean', db, index = False, )"
   ]
  }
 ],
 "metadata": {
  "kernelspec": {
   "display_name": "Python [conda env:root]",
   "language": "python",
   "name": "conda-root-py"
  },
  "language_info": {
   "codemirror_mode": {
    "name": "ipython",
    "version": 3
   },
   "file_extension": ".py",
   "mimetype": "text/x-python",
   "name": "python",
   "nbconvert_exporter": "python",
   "pygments_lexer": "ipython3",
   "version": "3.7.3"
  }
 },
 "nbformat": 4,
 "nbformat_minor": 2
}
